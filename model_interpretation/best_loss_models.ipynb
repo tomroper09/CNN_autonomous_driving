{
 "cells": [
  {
   "cell_type": "code",
   "execution_count": 1,
   "metadata": {},
   "outputs": [],
   "source": [
    "import pandas as pd\n",
    "import numpy as np\n",
    "import os"
   ]
  },
  {
   "cell_type": "code",
   "execution_count": 6,
   "metadata": {},
   "outputs": [
    {
     "name": "stdout",
     "output_type": "stream",
     "text": [
      "Live Testing - Combined MSE: 0.0125612760893999, Angle MSE: 0.0056231850758194, Speed MSE: 0.0069380910135805, Epoch: 18.0\n",
      "Kaggle Model - Combined MSE: 0.0105948480777441, Angle MSE: 0.0045986245386302, Speed MSE: 0.0059962235391139, Epoch: 42.0\n"
     ]
    }
   ],
   "source": [
    "def load_and_process_data(folder_path, model_type):\n",
    "    # Load angle and speed data\n",
    "    angle_path = os.path.join(folder_path, f'{model_type}_angle_val.csv')\n",
    "    speed_path = os.path.join(folder_path, f'{model_type}_speed_val.csv')\n",
    "    \n",
    "    df_angle = pd.read_csv(angle_path)\n",
    "    df_speed = pd.read_csv(speed_path)\n",
    "    \n",
    "    # Remove 'Wall time' and 'step' columns if they exist\n",
    "    df_angle = df_angle.drop(columns=['Wall time', 'step'], errors='ignore').rename(columns={'Value': 'Value_angle'})\n",
    "    df_speed = df_speed.drop(columns=['Wall time', 'step'], errors='ignore').rename(columns={'Value': 'Value_speed'})\n",
    "    \n",
    "    # Combine the dataframes\n",
    "    combined_df = pd.concat([df_angle, df_speed], axis=1)\n",
    "    \n",
    "    # Create the 'Epoch' column\n",
    "    combined_df['Epoch'] = combined_df.index + 1\n",
    "    \n",
    "    # Calculate the combined MSE\n",
    "    combined_df['Combined_MSE'] = combined_df['Value_angle'] + combined_df['Value_speed']\n",
    "    \n",
    "    # Find the row with the minimum combined MSE\n",
    "    min_combined_mse_row = combined_df.loc[combined_df['Combined_MSE'].idxmin()]\n",
    "    \n",
    "    # Extract the required values\n",
    "    min_combined_mse = min_combined_mse_row['Combined_MSE']\n",
    "    angle_mse = min_combined_mse_row['Value_angle']\n",
    "    speed_mse = min_combined_mse_row['Value_speed']\n",
    "    epoch = min_combined_mse_row['Epoch']\n",
    "    \n",
    "    return min_combined_mse, angle_mse, speed_mse, epoch\n",
    "\n",
    "# Example usage\n",
    "live_testing_folder = 'live_testing_model/'\n",
    "kaggle_model_folder = 'kaggle_model/'\n",
    "\n",
    "# Process live testing data\n",
    "live_testing_results = load_and_process_data(live_testing_folder, 'lt')\n",
    "print(f\"Live Testing - Combined MSE: {live_testing_results[0]}, Angle MSE: {live_testing_results[1]}, Speed MSE: {live_testing_results[2]}, Epoch: {live_testing_results[3]}\")\n",
    "\n",
    "# Process Kaggle model data\n",
    "kaggle_model_results = load_and_process_data(kaggle_model_folder, 'km')\n",
    "print(f\"Kaggle Model - Combined MSE: {kaggle_model_results[0]}, Angle MSE: {kaggle_model_results[1]}, Speed MSE: {kaggle_model_results[2]}, Epoch: {kaggle_model_results[3]}\")\n"
   ]
  },
  {
   "cell_type": "markdown",
   "metadata": {},
   "source": []
  }
 ],
 "metadata": {
  "kernelspec": {
   "display_name": "tomenv",
   "language": "python",
   "name": "python3"
  },
  "language_info": {
   "codemirror_mode": {
    "name": "ipython",
    "version": 3
   },
   "file_extension": ".py",
   "mimetype": "text/x-python",
   "name": "python",
   "nbconvert_exporter": "python",
   "pygments_lexer": "ipython3",
   "version": "3.8.18"
  }
 },
 "nbformat": 4,
 "nbformat_minor": 2
}
